{
 "cells": [
  {
   "cell_type": "markdown",
   "id": "d4e909a1",
   "metadata": {},
   "source": [
    "**1. ITERATORS**"
   ]
  },
  {
   "cell_type": "code",
   "execution_count": 6,
   "id": "955bc6ab",
   "metadata": {},
   "outputs": [
    {
     "name": "stdout",
     "output_type": "stream",
     "text": [
      "location: Paris\n",
      "location: Berlin\n",
      "location: Hamburg\n",
      "location: Frankfurt\n",
      "location: London\n",
      "location: Vienna\n",
      "location: Amsterdam\n",
      "location: Den Haag\n"
     ]
    }
   ],
   "source": [
    "cities = [\"Paris\", \"Berlin\", \"Hamburg\", \n",
    "          \"Frankfurt\", \"London\", \"Vienna\", \n",
    "          \"Amsterdam\", \"Den Haag\"]\n",
    "for location in cities:\n",
    "    print(\"location: \" + location)"
   ]
  },
  {
   "cell_type": "markdown",
   "id": "112be858",
   "metadata": {},
   "source": [
    "What is really going on when a for loop is executed? \n",
    "\n",
    "\n",
    "The function **'iter'** is applied **to the object following the 'in' keyword**, e.g. for i in o:. Two cases are possible: \n",
    "- o is either iterable or not. If o is not iterable, an exception will be raised, saying that the type of the object is not iterable. \n",
    "- On the other hand, if o is iterable the call **iter(o) will return an iterator**, let us call it iterator_obj. The for loop uses this iterator to iterate over the object o by using the **next method**. The for loop stops when next(iterator_obj) is exhausted, which means it returns a StopIteration exception. We demonstrate this behaviour in the following code example:"
   ]
  },
  {
   "cell_type": "code",
   "execution_count": 2,
   "id": "48cc8678",
   "metadata": {},
   "outputs": [
    {
     "name": "stdout",
     "output_type": "stream",
     "text": [
      "Calling 'next' for the first time:  Python Beginner\n",
      "Calling 'next' for the second time:  Python Intermediate\n"
     ]
    }
   ],
   "source": [
    "expertises = [\"Python Beginner\", \n",
    "              \"Python Intermediate\", \n",
    "              \"Python Proficient\", \n",
    "              \"Python Advanced\"]\n",
    "expertises_iterator = iter(expertises)\n",
    "print(\"Calling 'next' for the first time: \", next(expertises_iterator))\n",
    "print(\"Calling 'next' for the second time: \", next(expertises_iterator))"
   ]
  },
  {
   "cell_type": "code",
   "execution_count": 4,
   "id": "f190f051",
   "metadata": {},
   "outputs": [
    {
     "name": "stdout",
     "output_type": "stream",
     "text": [
      "location:  Paris\n",
      "location:  Berlin\n",
      "location:  Hamburg\n",
      "location:  Frankfurt\n",
      "location:  London\n",
      "location:  Vienna\n",
      "location:  Amsterdam\n",
      "location:  Den Haag\n"
     ]
    }
   ],
   "source": [
    "cities = [\"Paris\", \"Berlin\", \"Hamburg\", \n",
    "          \"Frankfurt\", \"London\", \"Vienna\", \n",
    "          \"Amsterdam\", \"Den Haag\"]\n",
    "\n",
    "city_iterator = iter(cities)\n",
    "while city_iterator:\n",
    "    try:\n",
    "        city = next(city_iterator)\n",
    "        print(\"location: \", city)\n",
    "    except StopIteration:\n",
    "        break"
   ]
  },
  {
   "cell_type": "code",
   "execution_count": 5,
   "id": "c0645dae",
   "metadata": {},
   "outputs": [
    {
     "name": "stdout",
     "output_type": "stream",
     "text": [
      "The capital city of France is Paris\n",
      "The capital city of Netherlands is Amsterdam\n",
      "The capital city of Germany is Berlin\n",
      "The capital city of Switzerland is Bern\n",
      "The capital city of Austria is Vienna\n"
     ]
    }
   ],
   "source": [
    "capitals = { \n",
    "    \"France\":\"Paris\", \n",
    "    \"Netherlands\":\"Amsterdam\", \n",
    "    \"Germany\":\"Berlin\", \n",
    "    \"Switzerland\":\"Bern\", \n",
    "    \"Austria\":\"Vienna\"}\n",
    "\n",
    "for country in capitals:\n",
    "     print(\"The capital city of \" + country + \" is \" + capitals[country])"
   ]
  },
  {
   "cell_type": "markdown",
   "id": "b1eb284d",
   "metadata": {},
   "source": [
    "**Implementing an Iterator as a Class**"
   ]
  },
  {
   "cell_type": "code",
   "execution_count": 7,
   "id": "30fe0045",
   "metadata": {},
   "outputs": [
    {
     "name": "stdout",
     "output_type": "stream",
     "text": [
      "a, b, c, a, b, c, a, b, c, a, "
     ]
    }
   ],
   "source": [
    "class Cycle(object):\n",
    "    \n",
    "    def __init__(self, iterable):\n",
    "        self.iterable = iterable\n",
    "        self.iter_obj = iter(iterable)\n",
    "\n",
    "    def __iter__(self):\n",
    "        return self\n",
    "\n",
    "    def __next__(self):\n",
    "        while True:\n",
    "            try:\n",
    "                next_obj = next(self.iter_obj)\n",
    "                return next_obj\n",
    "            except StopIteration:\n",
    "                self.iter_obj = iter(self.iterable)\n",
    "\n",
    "x = Cycle(\"abc\")\n",
    "\n",
    "for i in range(10):\n",
    "    print(next(x), end=\", \")"
   ]
  },
  {
   "cell_type": "markdown",
   "id": "4d5d5885",
   "metadata": {},
   "source": [
    "Even though the object-oriented approach to creating an iterator may be very interesting, this is not the pythonic method.\n",
    "\n",
    "The usual and easiest way to create an iterator in Python consists in using a generator function. You will learn this in the following chapter."
   ]
  },
  {
   "cell_type": "markdown",
   "id": "cb36b79e",
   "metadata": {},
   "source": [
    "**2. GENERATORS**"
   ]
  },
  {
   "cell_type": "code",
   "execution_count": null,
   "id": "1b875f84",
   "metadata": {},
   "outputs": [],
   "source": []
  }
 ],
 "metadata": {
  "kernelspec": {
   "display_name": "Python 3 (ipykernel)",
   "language": "python",
   "name": "python3"
  },
  "language_info": {
   "codemirror_mode": {
    "name": "ipython",
    "version": 3
   },
   "file_extension": ".py",
   "mimetype": "text/x-python",
   "name": "python",
   "nbconvert_exporter": "python",
   "pygments_lexer": "ipython3",
   "version": "3.11.5"
  }
 },
 "nbformat": 4,
 "nbformat_minor": 5
}
